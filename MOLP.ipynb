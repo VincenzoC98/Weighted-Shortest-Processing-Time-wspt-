{
  "nbformat": 4,
  "nbformat_minor": 0,
  "metadata": {
    "colab": {
      "provenance": []
    },
    "kernelspec": {
      "name": "python3",
      "display_name": "Python 3"
    },
    "language_info": {
      "name": "python"
    }
  },
  "cells": [
    {
      "cell_type": "markdown",
      "source": [
        "#Istanza"
      ],
      "metadata": {
        "id": "w1mKgd6iODzf"
      }
    },
    {
      "cell_type": "code",
      "execution_count": 1,
      "metadata": {
        "id": "ZV1AJQMa7Eyr"
      },
      "outputs": [],
      "source": [
        "import pandas as pd\n",
        "import numpy as np\n",
        "import matplotlib.pyplot as plt\n",
        "import seaborn as sns\n",
        "\n",
        "macchine =15\n",
        "jobs = 60\n",
        "tempi= [\n",
        "\t10,\t9,\t7,\t8,\t7,\t9,\t8,\t6,\t8,\t7,\n",
        "\t9,\t6,\t9,\t5,\t5,\t3,\t3,\t5,\t3,\t5,\n",
        "\t3,\t2,\t8,\t7,\t7,\t5,\t1,\t5,\t7,\t7,\n",
        "\t9,\t1,\t6,\t5,\t8,\t6,\t2,\t2,\t1,\t8,\n",
        "\t6,\t5,\t3,\t7,\t7,\t5,\t1,\t7,\t1,\t6,\n",
        "\t9,\t9,\t2,\t1,\t4,\t7,\t1,\t3,\t8,\t4,\n",
        "\n",
        "\n",
        "]\n",
        "pesi= [\n",
        "    3,   5,   12,  9,   21,  32,  2,   2,   10,  13,\n",
        "    12,  1,   1,   8,   10,  21,  10,  4,    1,  10,\n",
        "    13,  10,  9,   8,   10,  4,   23,  10,  12,  9,\n",
        "    10,  11,  12,  32,  12,  1,   1,    1,  1,   1,\n",
        "    1,    1,  10,  10,  2,   2,   2,   2,   2,   2,\n",
        "    3,   5,   12,  9,   21,  32,  2,   2,   10,  13,\n",
        "\n",
        "\n",
        "]\n",
        "T = 80"
      ]
    },
    {
      "cell_type": "code",
      "source": [
        "# Creare un ordinamento nell'array utilizzando il rapporto pesi/tempi\n",
        "ord1 = [(i+1, pesi[i] / tempi[i]) for i in range(jobs)] #Così creo tuple con indice del lavoro e relativo rapporto\n",
        "#ord = [a / b for a, b in zip(pesi, tempi)]  #Così costruisco l'array ordinamento senza sapere a quale lavoro appartiene il rapporto\n",
        "print(\"Ordinamento =\",ord1)\n",
        "ord_dec1 = sorted(ord1, reverse=True, key=lambda x: x[1]) #Ord decrescente ((key=lambda x: x[1]) in sorted applica ordinamento cre o decre per il secondo elemento della lista)\n",
        "print(\"Ord. Decrescente =\",ord_dec1)\n",
        "ord_cre1 = sorted(ord1, key=lambda x: x[1]) #Ord crescente\n",
        "print(\"Ord. Crescente =\",ord_cre1)\n",
        "import random\n",
        "ord_ran1 = random.sample(ord1,len(ord1)) #Ord random\n",
        "print(\"Ord. Random =\",ord_ran1)\n",
        "#Questo codice dà ordinamento al primo alamento della tupla, non al secondo"
      ],
      "metadata": {
        "colab": {
          "base_uri": "https://localhost:8080/"
        },
        "id": "XfOivsTKRAbE",
        "outputId": "033ac1c9-75d5-4eed-e262-cb88c209e812"
      },
      "execution_count": 2,
      "outputs": [
        {
          "output_type": "stream",
          "name": "stdout",
          "text": [
            "Ordinamento = [(1, 0.3), (2, 0.5555555555555556), (3, 1.7142857142857142), (4, 1.125), (5, 3.0), (6, 3.5555555555555554), (7, 0.25), (8, 0.3333333333333333), (9, 1.25), (10, 1.8571428571428572), (11, 1.3333333333333333), (12, 0.16666666666666666), (13, 0.1111111111111111), (14, 1.6), (15, 2.0), (16, 7.0), (17, 3.3333333333333335), (18, 0.8), (19, 0.3333333333333333), (20, 2.0), (21, 4.333333333333333), (22, 5.0), (23, 1.125), (24, 1.1428571428571428), (25, 1.4285714285714286), (26, 0.8), (27, 23.0), (28, 2.0), (29, 1.7142857142857142), (30, 1.2857142857142858), (31, 1.1111111111111112), (32, 11.0), (33, 2.0), (34, 6.4), (35, 1.5), (36, 0.16666666666666666), (37, 0.5), (38, 0.5), (39, 1.0), (40, 0.125), (41, 0.16666666666666666), (42, 0.2), (43, 3.3333333333333335), (44, 1.4285714285714286), (45, 0.2857142857142857), (46, 0.4), (47, 2.0), (48, 0.2857142857142857), (49, 2.0), (50, 0.3333333333333333), (51, 0.3333333333333333), (52, 0.5555555555555556), (53, 6.0), (54, 9.0), (55, 5.25), (56, 4.571428571428571), (57, 2.0), (58, 0.6666666666666666), (59, 1.25), (60, 3.25)]\n",
            "Ord. Decrescente = [(27, 23.0), (32, 11.0), (54, 9.0), (16, 7.0), (34, 6.4), (53, 6.0), (55, 5.25), (22, 5.0), (56, 4.571428571428571), (21, 4.333333333333333), (6, 3.5555555555555554), (17, 3.3333333333333335), (43, 3.3333333333333335), (60, 3.25), (5, 3.0), (15, 2.0), (20, 2.0), (28, 2.0), (33, 2.0), (47, 2.0), (49, 2.0), (57, 2.0), (10, 1.8571428571428572), (3, 1.7142857142857142), (29, 1.7142857142857142), (14, 1.6), (35, 1.5), (25, 1.4285714285714286), (44, 1.4285714285714286), (11, 1.3333333333333333), (30, 1.2857142857142858), (9, 1.25), (59, 1.25), (24, 1.1428571428571428), (4, 1.125), (23, 1.125), (31, 1.1111111111111112), (39, 1.0), (18, 0.8), (26, 0.8), (58, 0.6666666666666666), (2, 0.5555555555555556), (52, 0.5555555555555556), (37, 0.5), (38, 0.5), (46, 0.4), (8, 0.3333333333333333), (19, 0.3333333333333333), (50, 0.3333333333333333), (51, 0.3333333333333333), (1, 0.3), (45, 0.2857142857142857), (48, 0.2857142857142857), (7, 0.25), (42, 0.2), (12, 0.16666666666666666), (36, 0.16666666666666666), (41, 0.16666666666666666), (40, 0.125), (13, 0.1111111111111111)]\n",
            "Ord. Crescente = [(13, 0.1111111111111111), (40, 0.125), (12, 0.16666666666666666), (36, 0.16666666666666666), (41, 0.16666666666666666), (42, 0.2), (7, 0.25), (45, 0.2857142857142857), (48, 0.2857142857142857), (1, 0.3), (8, 0.3333333333333333), (19, 0.3333333333333333), (50, 0.3333333333333333), (51, 0.3333333333333333), (46, 0.4), (37, 0.5), (38, 0.5), (2, 0.5555555555555556), (52, 0.5555555555555556), (58, 0.6666666666666666), (18, 0.8), (26, 0.8), (39, 1.0), (31, 1.1111111111111112), (4, 1.125), (23, 1.125), (24, 1.1428571428571428), (9, 1.25), (59, 1.25), (30, 1.2857142857142858), (11, 1.3333333333333333), (25, 1.4285714285714286), (44, 1.4285714285714286), (35, 1.5), (14, 1.6), (3, 1.7142857142857142), (29, 1.7142857142857142), (10, 1.8571428571428572), (15, 2.0), (20, 2.0), (28, 2.0), (33, 2.0), (47, 2.0), (49, 2.0), (57, 2.0), (5, 3.0), (60, 3.25), (17, 3.3333333333333335), (43, 3.3333333333333335), (6, 3.5555555555555554), (21, 4.333333333333333), (56, 4.571428571428571), (22, 5.0), (55, 5.25), (53, 6.0), (34, 6.4), (16, 7.0), (54, 9.0), (32, 11.0), (27, 23.0)]\n",
            "Ord. Random = [(32, 11.0), (6, 3.5555555555555554), (30, 1.2857142857142858), (12, 0.16666666666666666), (10, 1.8571428571428572), (24, 1.1428571428571428), (8, 0.3333333333333333), (7, 0.25), (3, 1.7142857142857142), (35, 1.5), (14, 1.6), (34, 6.4), (50, 0.3333333333333333), (43, 3.3333333333333335), (41, 0.16666666666666666), (52, 0.5555555555555556), (5, 3.0), (23, 1.125), (26, 0.8), (56, 4.571428571428571), (38, 0.5), (47, 2.0), (51, 0.3333333333333333), (42, 0.2), (19, 0.3333333333333333), (55, 5.25), (57, 2.0), (25, 1.4285714285714286), (31, 1.1111111111111112), (1, 0.3), (20, 2.0), (60, 3.25), (46, 0.4), (28, 2.0), (9, 1.25), (59, 1.25), (40, 0.125), (53, 6.0), (15, 2.0), (44, 1.4285714285714286), (22, 5.0), (29, 1.7142857142857142), (4, 1.125), (39, 1.0), (48, 0.2857142857142857), (36, 0.16666666666666666), (18, 0.8), (37, 0.5), (54, 9.0), (45, 0.2857142857142857), (13, 0.1111111111111111), (2, 0.5555555555555556), (58, 0.6666666666666666), (21, 4.333333333333333), (33, 2.0), (49, 2.0), (16, 7.0), (11, 1.3333333333333333), (27, 23.0), (17, 3.3333333333333335)]\n"
          ]
        }
      ]
    },
    {
      "cell_type": "markdown",
      "source": [
        "#Modello Matematico"
      ],
      "metadata": {
        "id": "Wb-OibNFME3z"
      }
    },
    {
      "cell_type": "code",
      "source": [
        "!pip install pulp"
      ],
      "metadata": {
        "colab": {
          "base_uri": "https://localhost:8080/"
        },
        "id": "zZGioLua7VhQ",
        "outputId": "57a9b148-e115-4e85-f72b-b705cea59ffa"
      },
      "execution_count": 3,
      "outputs": [
        {
          "output_type": "stream",
          "name": "stdout",
          "text": [
            "Collecting pulp\n",
            "  Downloading PuLP-3.0.2-py3-none-any.whl.metadata (6.7 kB)\n",
            "Downloading PuLP-3.0.2-py3-none-any.whl (17.7 MB)\n",
            "\u001b[2K   \u001b[90m━━━━━━━━━━━━━━━━━━━━━━━━━━━━━━━━━━━━━━━━\u001b[0m \u001b[32m17.7/17.7 MB\u001b[0m \u001b[31m16.8 MB/s\u001b[0m eta \u001b[36m0:00:00\u001b[0m\n",
            "\u001b[?25hInstalling collected packages: pulp\n",
            "Successfully installed pulp-3.0.2\n"
          ]
        }
      ]
    },
    {
      "cell_type": "code",
      "source": [
        "#Costruisco la prima soluzione del modello matematico\n",
        "\n",
        "J = list(range(int(jobs))) #Trasformo un numero n in un array di n elementi (Es.: 3 --> array=[0,1,2])\n",
        "print(J)\n",
        "M = list(range(int(macchine)))\n",
        "import pulp\n",
        "import numpy as np\n",
        "\n",
        "# Creazione del problema di ottimizzazione\n",
        "prob = pulp.LpProblem(\"Minimizza_costo_scheduling\", pulp.LpMinimize)\n",
        "\n",
        "# Variabili decisionali xjt: 1 se il job j inizia all'istante t, 0 altrimenti\n",
        "x = {(j, t): pulp.LpVariable(f\"x_{j}_{t}\", cat='Binary') for j in range(jobs) for t in range(T - tempi[j] + 1)}\n",
        "\n",
        "# Funzione obiettivo (1): minimizzazione del completamento totale pesato\n",
        "objective = pulp.lpSum(pesi[j] * t * x[j, t] for j in range(jobs) for t in range(T - tempi[j] + 1)) + pulp.lpSum(pesi[j] * tempi[j] for j in range(jobs))\n",
        "prob += objective\n",
        "\n",
        "# Vincolo (2): Ogni job j deve iniziare esattamente una volta durante l'orizzonte\n",
        "for j in range(jobs):\n",
        "    prob += pulp.lpSum(x[j, t] for t in range(T - tempi[j] + 1)) == 1, f\"vincolo_unico_inizio_{j}\"\n",
        "\n",
        "# Vincolo (3): La somma delle esecuzioni contemporanee non supera la capacità delle macchine\n",
        "for t in range(T):\n",
        "    prob += pulp.lpSum(\n",
        "        x[j, s]\n",
        "        for j in range(jobs)\n",
        "        for s in range(max(0, t - tempi[j] + 1), min(t + 1, T - tempi[j] + 1))\n",
        "    ) <= macchine, f\"vincolo_capacita_{t}\"\n",
        "\n",
        "# Vincolo (4): Le variabili xjt devono essere binarie\n",
        "for j in range(jobs):\n",
        "    for t in range(T - tempi[j] + 1):\n",
        "        prob += x[j, t] >= 0\n",
        "        prob += x[j, t] <= 1\n",
        "\n",
        "# Risoluzione del problema\n",
        "prob.solve()\n",
        "\n",
        "# Stampa dello stato della soluzione\n",
        "print(\"Status della soluzione:\", pulp.LpStatus[prob.status])\n",
        "\n",
        "# Stampa del valore della funzione obiettivo\n",
        "print(\"Valore della funzione obiettivo (costo totale):\", pulp.value(prob.objective))\n",
        "\n",
        "# Stampa delle variabili decisionali\n",
        "for j in range(jobs):\n",
        "    for t in range(T - tempi[j] + 1):\n",
        "        if pulp.value(x[j, t]) > 0.5:  # Se xjt è 1 (tenendo conto delle possibili imprecisioni numeriche)\n",
        "            print(f\"Il job {j} inizia al tempo {t}\")\n",
        "\n"
      ],
      "metadata": {
        "colab": {
          "base_uri": "https://localhost:8080/"
        },
        "id": "jzqTT-h53XDG",
        "outputId": "c74688e5-e7b7-461b-dc01-2e5f3bb5820e"
      },
      "execution_count": 4,
      "outputs": [
        {
          "output_type": "stream",
          "name": "stdout",
          "text": [
            "[0, 1, 2, 3, 4, 5, 6, 7, 8, 9, 10, 11, 12, 13, 14, 15, 16, 17, 18, 19, 20, 21, 22, 23, 24, 25, 26, 27, 28, 29, 30, 31, 32, 33, 34, 35, 36, 37, 38, 39, 40, 41, 42, 43, 44, 45, 46, 47, 48, 49, 50, 51, 52, 53, 54, 55, 56, 57, 58, 59]\n",
            "Status della soluzione: Optimal\n",
            "Valore della funzione obiettivo (costo totale): 4352.0\n",
            "Il job 0 inizia al tempo 13\n",
            "Il job 1 inizia al tempo 10\n",
            "Il job 2 inizia al tempo 3\n",
            "Il job 3 inizia al tempo 7\n",
            "Il job 4 inizia al tempo 0\n",
            "Il job 5 inizia al tempo 0\n",
            "Il job 6 inizia al tempo 14\n",
            "Il job 7 inizia al tempo 15\n",
            "Il job 8 inizia al tempo 7\n",
            "Il job 9 inizia al tempo 1\n",
            "Il job 10 inizia al tempo 4\n",
            "Il job 11 inizia al tempo 18\n",
            "Il job 12 inizia al tempo 16\n",
            "Il job 13 inizia al tempo 4\n",
            "Il job 14 inizia al tempo 1\n",
            "Il job 15 inizia al tempo 0\n",
            "Il job 16 inizia al tempo 0\n",
            "Il job 17 inizia al tempo 9\n",
            "Il job 18 inizia al tempo 14\n",
            "Il job 19 inizia al tempo 2\n",
            "Il job 20 inizia al tempo 0\n",
            "Il job 21 inizia al tempo 0\n",
            "Il job 22 inizia al tempo 7\n",
            "Il job 23 inizia al tempo 8\n",
            "Il job 24 inizia al tempo 5\n",
            "Il job 25 inizia al tempo 9\n",
            "Il job 26 inizia al tempo 0\n",
            "Il job 27 inizia al tempo 2\n",
            "Il job 28 inizia al tempo 3\n",
            "Il job 29 inizia al tempo 7\n",
            "Il job 30 inizia al tempo 7\n",
            "Il job 31 inizia al tempo 0\n",
            "Il job 32 inizia al tempo 1\n",
            "Il job 33 inizia al tempo 0\n",
            "Il job 34 inizia al tempo 4\n",
            "Il job 35 inizia al tempo 17\n",
            "Il job 36 inizia al tempo 15\n",
            "Il job 37 inizia al tempo 15\n",
            "Il job 38 inizia al tempo 12\n",
            "Il job 39 inizia al tempo 17\n",
            "Il job 40 inizia al tempo 15\n",
            "Il job 41 inizia al tempo 17\n",
            "Il job 42 inizia al tempo 0\n",
            "Il job 43 inizia al tempo 5\n",
            "Il job 44 inizia al tempo 15\n",
            "Il job 45 inizia al tempo 13\n",
            "Il job 46 inizia al tempo 3\n",
            "Il job 47 inizia al tempo 14\n",
            "Il job 48 inizia al tempo 3\n",
            "Il job 49 inizia al tempo 14\n",
            "Il job 50 inizia al tempo 12\n",
            "Il job 51 inizia al tempo 10\n",
            "Il job 52 inizia al tempo 0\n",
            "Il job 53 inizia al tempo 0\n",
            "Il job 54 inizia al tempo 0\n",
            "Il job 55 inizia al tempo 0\n",
            "Il job 56 inizia al tempo 4\n",
            "Il job 57 inizia al tempo 12\n",
            "Il job 58 inizia al tempo 6\n",
            "Il job 59 inizia al tempo 0\n"
          ]
        }
      ]
    },
    {
      "cell_type": "markdown",
      "source": [
        "#Euristico"
      ],
      "metadata": {
        "id": "sXG9AdGy7Yhi"
      }
    },
    {
      "cell_type": "code",
      "source": [
        "#Imposto l'ordine con cui voglio processare i job. Poi un ciclo for sull'array jobs mi calcola il prodotto di pesi per tempo di ogni job.\n",
        "ord_scelto = ord_ran1\n",
        "z=0\n",
        "tempo_macc=[0]*macchine\n",
        "#print(len(ord_scelto))\n",
        "for i in range(jobs):\n",
        "  z+=pesi[i]*tempi[i]\n",
        "for i in range(len(ord_scelto)):\n",
        "      k=tempo_macc.index(min(tempo_macc)) #k mi ridà l'indice del numero più piccolo dell'array tempo do ogni macchina\n",
        "      a=tempo_macc[k]\n",
        "      tempo_macc[k]=tempo_macc[k]+tempi[ord_scelto[i][0]-1] #nella posizione dell'indice k viene sommato l'i-esimo job nell'ordinamento\n",
        "      #print(tempi[ord_scelto[i][0]-1])\n",
        "      z+=a*pesi[ord_scelto[i][0]-1]+tempi[ord_scelto[i][0]-1] #calcolo la funzione obiettivo\n",
        "      #print(\"Il lavoro\",ord_scelto[i][0]-1,\"viene assegnato alla macchina\",k+1,\"al tempo\",a)\n",
        "      #print(\"k=\",k)\n",
        "      #print(\"Array tempo macchine=\",tempo_macc)\n",
        "      #print(\"z=\",z)\n",
        "      #print(\"istante di assegnamento=\",a)\n",
        "\n",
        "k=tempo_macc.index(max(tempo_macc)) #k ora mi ridà l'indice del tempo di ogni macchina dove il tempo è maggiore\n",
        "#print(\"Array tempo macchine=\",tempo_macc)\n",
        "if tempo_macc[k]<T:\n",
        "  print(\"Soluzione Ottima Trovata!\")\n",
        "  #print(tempo_macc[k])\n",
        "else:\n",
        "  print(\"Soluzione Non Trovata!\")\n",
        "print(\"Sol. Euristica:\",z)"
      ],
      "metadata": {
        "colab": {
          "base_uri": "https://localhost:8080/"
        },
        "id": "Pz0Rm_NsCPBe",
        "outputId": "00a57269-32ef-4a68-94ba-204deec65129"
      },
      "execution_count": 5,
      "outputs": [
        {
          "output_type": "stream",
          "name": "stdout",
          "text": [
            "Soluzione Ottima Trovata!\n",
            "Sol. Euristica: 7352\n"
          ]
        }
      ]
    },
    {
      "cell_type": "markdown",
      "source": [
        "#Ricerca Locale - Swap"
      ],
      "metadata": {
        "id": "K45nODPHOvl3"
      }
    },
    {
      "cell_type": "code",
      "source": [
        "# Implemento ricerca locale per avere una soluzione\n",
        "\n",
        "ord_scelto_rl=ord_ran1\n",
        "z_rl=0\n",
        "z_rl_tabella = [[0 for _ in range(jobs)] for _ in range(jobs)]\n",
        "improvement=False\n",
        "while True:\n",
        "  improvement=False\n",
        "  for i in range(len(ord_scelto_rl)):\n",
        "     for j in range(len(ord_scelto_rl)): #prendo il primo e lo metto al posto del primo, prendo il secondo e lo metto al posto del primo. prendo il terzo...\n",
        "      if j<i: #La matrice che sto cercando di ottenere è triangolare alta\n",
        "       j=i\n",
        "      z_rl=0\n",
        "      tempo_macc_rl=[0]*macchine\n",
        "      temp = ord_scelto_rl[j]   #scambiamo tutti i job con tutti\n",
        "      ord_scelto_rl[j] = ord_scelto_rl[i]\n",
        "      ord_scelto_rl[i] = temp\n",
        "      for x in range(jobs):   #calcoliamo tutte le sol per ogni swap\n",
        "        z_rl+=pesi[x]*tempi[x]\n",
        "      for y in range(len(ord_scelto_rl)):\n",
        "        k=tempo_macc_rl.index(min(tempo_macc_rl)) #k mi ridà l'indice del numero più piccolo dell'array tempo di ogni macchina\n",
        "        a=tempo_macc_rl[k]  #a è il tempo della macchina più scarica\n",
        "        tempo_macc_rl[k]=tempo_macc_rl[k]+tempi[ord_scelto_rl[y][0]-1] #nella posizione dell'indice k viene sommato l'i-esimo job nell'ordinamento\n",
        "        z_rl+=a*pesi[ord_scelto_rl[y][0]-1]+tempi[ord_scelto_rl[y][0]-1] #calcolo la funzione obiettivo\n",
        "      z_rl_tabella[i][j]=[z_rl,i,j] #ogni sol viene messa in una tabella, con l'indicazione degli indici scambiati\n",
        "      temp = ord_scelto_rl[j]  #una volta misurata la sol rimetto a posto l'ordine\n",
        "      ord_scelto_rl[j] = ord_scelto_rl[i]\n",
        "      ord_scelto_rl[i] = temp\n",
        "  z_rl_tabella= [valore for riga in z_rl_tabella for valore in riga if valore != 0] #trasforma la tabella, liste di liste, in un unico array escludendo lo zero\n",
        "  z_min=sorted(z_rl_tabella)[:1] #trova il valore più piccolo nell'array\n",
        "  z_rl_tabella=[[0 for _ in range(jobs)] for _ in range(jobs)] #resetto la tabella\n",
        "  if z_min[0][0]<z: #se la sol dello swap più conveniente è migliore della sol euristica, muto l'ordinamento per rendere quello swap parte del nuovo ordinamento su cui verranno calcolate le sol euristiche\n",
        "    improvemet=True\n",
        "    help=ord_scelto_rl[z_min[0][2]]\n",
        "    ord_scelto_rl[z_min[0][2]]=ord_scelto_rl[z_min[0][1]]\n",
        "    ord_scelto_rl[z_min[0][1]]=help\n",
        "    z=z_min[0][0]\n",
        "    print(\"Sposto il job\",z_min[0][2],\"al posto del\",z_min[0][1])\n",
        "    print(\"Incumbent Solution:\",z)\n",
        "  else:\n",
        "    break\n",
        "print(\"Soluzione Ottima RL:\",z)"
      ],
      "metadata": {
        "colab": {
          "base_uri": "https://localhost:8080/"
        },
        "id": "C9NlkbD8O4gz",
        "outputId": "e27ee0cd-cc07-41f9-ec1a-7d6a97c7fbf9"
      },
      "execution_count": 6,
      "outputs": [
        {
          "output_type": "stream",
          "name": "stdout",
          "text": [
            "Sposto il job 58 al posto del 7\n",
            "Incumbent Solution: 6761\n",
            "Sposto il job 56 al posto del 3\n",
            "Incumbent Solution: 6344\n",
            "Sposto il job 53 al posto del 14\n",
            "Incumbent Solution: 6039\n",
            "Sposto il job 59 al posto del 6\n",
            "Incumbent Solution: 5829\n",
            "Sposto il job 48 al posto del 15\n",
            "Incumbent Solution: 5629\n",
            "Sposto il job 54 al posto del 12\n",
            "Incumbent Solution: 5469\n",
            "Sposto il job 57 al posto del 22\n",
            "Incumbent Solution: 5352\n",
            "Sposto il job 37 al posto del 5\n",
            "Incumbent Solution: 5273\n",
            "Sposto il job 40 al posto del 2\n",
            "Incumbent Solution: 5196\n",
            "Sposto il job 55 al posto del 23\n",
            "Incumbent Solution: 5108\n",
            "Sposto il job 25 al posto del 9\n",
            "Incumbent Solution: 5047\n",
            "Sposto il job 41 al posto del 29\n",
            "Incumbent Solution: 4992\n",
            "Sposto il job 31 al posto del 10\n",
            "Incumbent Solution: 4946\n",
            "Sposto il job 38 al posto del 18\n",
            "Incumbent Solution: 4904\n",
            "Sposto il job 19 al posto del 8\n",
            "Incumbent Solution: 4864\n",
            "Sposto il job 40 al posto del 24\n",
            "Incumbent Solution: 4832\n",
            "Sposto il job 42 al posto del 32\n",
            "Incumbent Solution: 4813\n",
            "Sposto il job 52 al posto del 36\n",
            "Incumbent Solution: 4790\n",
            "Sposto il job 33 al posto del 17\n",
            "Incumbent Solution: 4772\n",
            "Sposto il job 39 al posto del 20\n",
            "Incumbent Solution: 4748\n",
            "Sposto il job 51 al posto del 45\n",
            "Incumbent Solution: 4736\n",
            "Sposto il job 16 al posto del 4\n",
            "Incumbent Solution: 4728\n",
            "Sposto il job 15 al posto del 12\n",
            "Incumbent Solution: 4721\n",
            "Sposto il job 48 al posto del 40\n",
            "Incumbent Solution: 4715\n",
            "Sposto il job 30 al posto del 24\n",
            "Incumbent Solution: 4710\n",
            "Sposto il job 29 al posto del 20\n",
            "Incumbent Solution: 4706\n",
            "Sposto il job 46 al posto del 39\n",
            "Incumbent Solution: 4702\n",
            "Sposto il job 57 al posto del 44\n",
            "Incumbent Solution: 4698\n",
            "Sposto il job 24 al posto del 16\n",
            "Incumbent Solution: 4696\n",
            "Sposto il job 24 al posto del 21\n",
            "Incumbent Solution: 4693\n",
            "Sposto il job 34 al posto del 28\n",
            "Incumbent Solution: 4691\n",
            "Sposto il job 59 al posto del 50\n",
            "Incumbent Solution: 4689\n",
            "Sposto il job 21 al posto del 19\n",
            "Incumbent Solution: 4688\n",
            "Sposto il job 45 al posto del 36\n",
            "Incumbent Solution: 4687\n",
            "Sposto il job 58 al posto del 48\n",
            "Incumbent Solution: 4685\n",
            "Sposto il job 57 al posto del 51\n",
            "Incumbent Solution: 4684\n",
            "Soluzione Ottima RL: 4684\n"
          ]
        }
      ]
    },
    {
      "cell_type": "markdown",
      "source": [
        "\n",
        "\n",
        "#Multi-Start\n",
        "\n"
      ],
      "metadata": {
        "id": "H8BBdEx5mMVj"
      }
    },
    {
      "cell_type": "code",
      "source": [
        "#Implemento il multi-start, reiterare una disposizione random dei job e cercare quella migliore\n",
        "import random\n",
        "tempo_macc_ms=[0]*macchine\n",
        "iter=int(input(\"Inserisci numero di iterazioni MS:\"))\n",
        "z_ms_array=[0]*iter\n",
        "for j in range(iter): #per un numero di iterazioni deciso a priori\n",
        "  tempo_macc_ms=[0]*macchine #resettiamo il carico delle macchine perché verrà sempre riaggiornato\n",
        "  z_ms=0 #stessa cosa per la z_ms\n",
        "  ord_rand1 = random.sample(ord1,len(ord1)) #Ord random\n",
        "  for i in range(jobs): #questi due for servono per il calcolo della z_ms, che verrà inserita in un array di len = al numero di iterazioni\n",
        "   z_ms+=pesi[i]*tempi[i]\n",
        "  for i in range(len(ord_rand1)):\n",
        "   k=tempo_macc_ms.index(min(tempo_macc_ms)) #k mi ridà l'indice del numero più piccolo dell'array tempo di ogni macchina\n",
        "   a=tempo_macc_ms[k]\n",
        "   tempo_macc_ms[k]=tempo_macc_ms[k]+tempi[ord_rand1[i][0]-1] #nella posizione dell'indice k viene sommato l'i-esimo job nell'ordinamento\n",
        "   z_ms+=a*pesi[ord_rand1[i][0]-1]+tempi[ord_rand1[i][0]-1] #calcolo la funzione obiettivo\n",
        "   z_ms_array[j]=z_ms\n",
        "\n",
        "k=tempo_macc_ms.index(max(tempo_macc_ms)) #k ora mi ridà l'indice del tempo di ogni macchina dove il tempo è maggiore\n",
        "#print(\"Array tempo macchine=\",tempo_macc)\n",
        "if tempo_macc_ms[k]<T:\n",
        "  print(\"Soluzione Ottima Trovata!\")\n",
        "  #print(tempo_macc[k])\n",
        "else:\n",
        "  print(\"Soluzione Non Trovata!\")\n",
        "print(\"Sol. Ord. Random =\",z_ms_array)\n",
        "#print(\"Array Tempo=\",tempo_macc_ms)\n",
        "print(\"Soluzione MS=\",min(z_ms_array))"
      ],
      "metadata": {
        "id": "bxIkcFDvmM7E",
        "colab": {
          "base_uri": "https://localhost:8080/"
        },
        "outputId": "e654904f-7f8c-4eae-abc4-466d4b9a0929"
      },
      "execution_count": 7,
      "outputs": [
        {
          "output_type": "stream",
          "name": "stdout",
          "text": [
            "Inserisci numero di iterazioni MS:1000\n",
            "Soluzione Ottima Trovata!\n",
            "Sol. Ord. Random = [7571, 8387, 7438, 7380, 7245, 7819, 7384, 7649, 7347, 7661, 7135, 7568, 6111, 6616, 7539, 7412, 7240, 7838, 7565, 7696, 7010, 7739, 7616, 7122, 7185, 7466, 7133, 7647, 7575, 7338, 7460, 7289, 7023, 7873, 6782, 7087, 6694, 7404, 7630, 7678, 7740, 6743, 7154, 6520, 6733, 6706, 6596, 7641, 7454, 7912, 7572, 7020, 6917, 7164, 6527, 7173, 7791, 6944, 7518, 7061, 7749, 7767, 6892, 7206, 7819, 6643, 6893, 7436, 6874, 6490, 6446, 6464, 7734, 7839, 7833, 6513, 6948, 7295, 6822, 8050, 7659, 7407, 7777, 7130, 7930, 7646, 7056, 6820, 7562, 7394, 7142, 7117, 6964, 7755, 7921, 7144, 7073, 7154, 6517, 7660, 7019, 7496, 7383, 7507, 7103, 7738, 7689, 7056, 7559, 7039, 7266, 7290, 7400, 7371, 7228, 7326, 7232, 7264, 7610, 7122, 6973, 6893, 8071, 7284, 7155, 7618, 7262, 7099, 6982, 7932, 7316, 7487, 7183, 7423, 7719, 6855, 6888, 7430, 8056, 7639, 7469, 6799, 7724, 7154, 7101, 7381, 7536, 6992, 6739, 7166, 6970, 7303, 7972, 7210, 7668, 6897, 7006, 7897, 7435, 6425, 6855, 6008, 7032, 7370, 7236, 6738, 7293, 7436, 6984, 6575, 6796, 7434, 7140, 7000, 6651, 7671, 6946, 8175, 7768, 7044, 7752, 7285, 7388, 6649, 7243, 6820, 7436, 7777, 7260, 6742, 7460, 6914, 7864, 7326, 8124, 7796, 7694, 6508, 6651, 7307, 7522, 7528, 6608, 6644, 7338, 7468, 7300, 7152, 7101, 7901, 7437, 7245, 7073, 6491, 7671, 6942, 7458, 7093, 7250, 7360, 6921, 7367, 8048, 6786, 6707, 7100, 6824, 7933, 7480, 6543, 7695, 7276, 7384, 6790, 7296, 7389, 7164, 7220, 7457, 6869, 6854, 7221, 7886, 7072, 6216, 7322, 7157, 6790, 6707, 7048, 6882, 7420, 7987, 7116, 8049, 7965, 6588, 7256, 7147, 7417, 8224, 7175, 7420, 7483, 7253, 7155, 7347, 7085, 7411, 7050, 7377, 7237, 6989, 6849, 7056, 6913, 6828, 7000, 6951, 6937, 7268, 6951, 8246, 7263, 7523, 6447, 8024, 7464, 7480, 6713, 6968, 8180, 8336, 6916, 6826, 7864, 7738, 6623, 8083, 7325, 6941, 8095, 7277, 6909, 7816, 7198, 8018, 7033, 6931, 6760, 7074, 7201, 6423, 7132, 6897, 6888, 6714, 7657, 7745, 7758, 6386, 7183, 7557, 7490, 6668, 7325, 7039, 7392, 6806, 6992, 7787, 7457, 7103, 6604, 7556, 7288, 7343, 6938, 7610, 7162, 7293, 7080, 7321, 7816, 6832, 7496, 7088, 6671, 6930, 7321, 7035, 7251, 7241, 7630, 7673, 6792, 7347, 7587, 7132, 7624, 7103, 7385, 7086, 6920, 7113, 7793, 7387, 7340, 7304, 7588, 6946, 7968, 6341, 6843, 8141, 7124, 7279, 7236, 7437, 7241, 7128, 6911, 7076, 7773, 6959, 7055, 6952, 7284, 7276, 6607, 6906, 7182, 6661, 6912, 8045, 6855, 7534, 7291, 6654, 7038, 8134, 6983, 7691, 7339, 6659, 7060, 7463, 7159, 6414, 6579, 7459, 6893, 7190, 6934, 6401, 7781, 6856, 7636, 7505, 6608, 6493, 7673, 7600, 7737, 6974, 6760, 8214, 7326, 7586, 7060, 6083, 7746, 7301, 7075, 6750, 7195, 7318, 7655, 6822, 7382, 8021, 7762, 7016, 7222, 7124, 7378, 7235, 6435, 6884, 7378, 7968, 7978, 7127, 7412, 6946, 7275, 7359, 6951, 7596, 7515, 6988, 7928, 7625, 6185, 8202, 7232, 7370, 8120, 7085, 7387, 6215, 7912, 7259, 7117, 7270, 7460, 7501, 7501, 7852, 7082, 7200, 7882, 7349, 6941, 7309, 7068, 7760, 7152, 6466, 7928, 6319, 7011, 7550, 6803, 7552, 7280, 6815, 7569, 7506, 6795, 7474, 6908, 7280, 8197, 7395, 6350, 7784, 7650, 6945, 6909, 6890, 7109, 7087, 6995, 7352, 7731, 6409, 6723, 7126, 6987, 7673, 6568, 7472, 7587, 7087, 7004, 7789, 6983, 6666, 6961, 6550, 7459, 7658, 7914, 7619, 6592, 7718, 7602, 7264, 6752, 7514, 8087, 7727, 7263, 6777, 7792, 7065, 7030, 6969, 7210, 6984, 7470, 7441, 7690, 7260, 7802, 7530, 6620, 7359, 6813, 7102, 7239, 6809, 7218, 7450, 7998, 7552, 8071, 7390, 7276, 7589, 6030, 6995, 7165, 7066, 7614, 7334, 7649, 7087, 7544, 7688, 7244, 7925, 7554, 7265, 7236, 7360, 6830, 7051, 7068, 7685, 7701, 7677, 7687, 8317, 7169, 7258, 7218, 7053, 7763, 7418, 7488, 7036, 6817, 6900, 8051, 7580, 7409, 6540, 6937, 6983, 7178, 6746, 7358, 7043, 7202, 7566, 7276, 7581, 6682, 6516, 7222, 7460, 8765, 6822, 6961, 7822, 7639, 7396, 7344, 7370, 7594, 7434, 7663, 7892, 7222, 6602, 6855, 7104, 7202, 7316, 7355, 7510, 7659, 6561, 6674, 7124, 7178, 7532, 7700, 8136, 6908, 7912, 7982, 7906, 7637, 7560, 6723, 7152, 7374, 6540, 6344, 6830, 7451, 7549, 7586, 7171, 6817, 7725, 7034, 6524, 7153, 7344, 7158, 6798, 7870, 6755, 7304, 7094, 7515, 6934, 7839, 8007, 6748, 7311, 7009, 6939, 7289, 8170, 6922, 6638, 6753, 7365, 7146, 7036, 7004, 7088, 7647, 7391, 7678, 7673, 7754, 6838, 7206, 7948, 6687, 7366, 8365, 7402, 7376, 7458, 7567, 7376, 7171, 7391, 7405, 6867, 7107, 7051, 7139, 7689, 7007, 6689, 6923, 6908, 6843, 7223, 7999, 7922, 7322, 6963, 6573, 6900, 7247, 7405, 7374, 7230, 7280, 7622, 7498, 8212, 7338, 7172, 7170, 7211, 6390, 6812, 6682, 7409, 6523, 8000, 7783, 7426, 7095, 6854, 6717, 7428, 7125, 7460, 6908, 6764, 7792, 6760, 6880, 7245, 7721, 6898, 6944, 6934, 7496, 6861, 6792, 6952, 8107, 7348, 7825, 7159, 6937, 7454, 7317, 7571, 7341, 6277, 8058, 6801, 6859, 7455, 7458, 7347, 7080, 7074, 6995, 7043, 7609, 6937, 6368, 7210, 7421, 7194, 7559, 6818, 7112, 7310, 6221, 7678, 7109, 7456, 7914, 7798, 7477, 7000, 7472, 6809, 7115, 7446, 6717, 7589, 7004, 7082, 6970, 7474, 6924, 7260, 7110, 7938, 7069, 6715, 7623, 6840, 7026, 6702, 7385, 7540, 7864, 6787, 6923, 7738, 7484, 7335, 6960, 6934, 7556, 7904, 7817, 6747, 7214, 8357, 6991, 7084, 7338, 7418, 8232, 7086, 7023, 6444, 6475, 7986, 6760, 6400, 7562, 7196, 7262, 7052, 6321, 7305, 6609, 7204, 7179, 7629, 6847, 7291, 6516, 7298, 6984, 6659, 7889, 7532, 7137, 7698, 6706, 6834, 7745, 7575, 8021, 6946, 7556, 7740, 7449, 6126, 7540, 7533, 6829, 6550, 7589, 6876, 7390, 7132, 7452, 6462, 7558, 7177, 7587, 7067, 7150, 7530, 7460, 6886, 7726, 6999, 6810, 7358, 6921, 7891, 7131, 6610, 7983, 6589, 7254, 6508, 7424, 7542, 6974, 7127, 6400, 7048, 7439, 7538, 7987, 7632, 7621, 6923, 6828, 7016, 6564, 6704, 6804, 7201, 7213, 7157, 7034, 6942, 7158, 7612, 7362, 7511, 7215, 7473, 6510, 7840, 6782, 6859, 7000, 7455, 7468, 6712, 7340, 7126, 7086, 6837, 7878, 7665, 6814, 6655, 7134, 7129, 6689, 6033, 7631, 6647, 7169, 7002, 6467, 7129, 6810, 7161, 6988, 7940, 6906, 6906, 7272, 7305, 6905, 6981, 7347, 7258, 7803, 7421, 7833, 7267, 7035, 7020, 7606, 7895, 7391, 7880, 7326, 7211, 6893, 7129, 6860]\n",
            "Soluzione MS= 6008\n"
          ]
        }
      ]
    },
    {
      "cell_type": "markdown",
      "source": [
        "#Metaeuristico - Alg. Genetico"
      ],
      "metadata": {
        "id": "Cdyj8NCKTP6_"
      }
    },
    {
      "cell_type": "code",
      "source": [
        "import random\n",
        "\n",
        "z_ge=0\n",
        "z_ge_fi=0\n",
        "tempo_macc_ge=[0]*macchine\n",
        "iter_ge=800 #il genetico parte da una popolazione di individui\n",
        "z_ge_array=[0]*iter_ge\n",
        "ord_array_ge=[0]*iter_ge\n",
        "z_ge_fi_array=[[0 for _ in range(iter_ge)] for _ in range(iter_ge)]\n",
        "ord_array_ge_fi=[[0 for _ in range(iter_ge)] for _ in range(iter_ge)]\n",
        "z_min_genitori=0\n",
        "z_min_figlio=0\n",
        "miglioramento=True\n",
        "\n",
        "\n",
        "for j in range(iter_ge): #per un numero di iterazioni deciso a priori\n",
        "  tempo_macc_ge=[0]*macchine #resettiamo il carico delle macchine perché verrà sempre riaggiornato\n",
        "  z_ge=0 #stessa cosa per la z_ge\n",
        "  ord_rand1 = random.sample(ord1,len(ord1)) #Ord random\n",
        "  ord_array_ge[j]=ord_rand1 #inserisco l'ordinamento nell'array ordinamenti\n",
        "  for i in range(jobs): #questi due for servono per il calcolo della z_ms, che verrà inserita in un array di len = al numero di iterazioni\n",
        "    z_ge+=pesi[i]*tempi[i]\n",
        "  for i in range(len(ord_rand1)):\n",
        "    k=tempo_macc_ge.index(min(tempo_macc_ge)) #k mi ridà l'indice del numero più piccolo dell'array tempo di ogni macchina\n",
        "    a=tempo_macc_ge[k]\n",
        "    tempo_macc_ge[k]=tempo_macc_ge[k]+tempi[ord_rand1[i][0]-1] #nella posizione dell'indice k viene sommato l'i-esimo job nell'ordinamento\n",
        "    z_ge+=a*pesi[ord_rand1[i][0]-1]+tempi[ord_rand1[i][0]-1] #calcolo la funzione obiettivo\n",
        "    z_ge_array[j]=[z_ge,j] #mettiamo le sol in un array\n",
        "z_min_genitori=min(z_ge_array) #selezioniamo la sol migliore dell'insieme di partenza\n",
        "print(\"Sol. Insieme Genitori di Partenza=\",z_min_genitori)\n",
        "\n",
        "while miglioramento==True:\n",
        "  for a in range(iter_ge):\n",
        "   for b in range(iter_ge):\n",
        "    z_ge_fi=0\n",
        "    array_gen1=0\n",
        "    array_gen2=0\n",
        "    array_gen1=ord_array_ge[a]\n",
        "    array_gen2=ord_array_ge[b]\n",
        "    posizione_sc=random.randint(0, jobs)\n",
        "    array_figlio=array_gen1[:posizione_sc] + list((set(array_gen2)-set(array_gen1[:posizione_sc]))) #generiamo un figlio per ogni coppia di array genitori (iter_ge*iter_ge numero di soluzioni)\n",
        "    ord_array_ge_fi[a][b]=array_figlio\n",
        "    tempo_macc_figli=[0]*macchine\n",
        "    for x in range(jobs):   #calcoliamo tutte le sol per ogni incrocio\n",
        "     z_ge_fi+=pesi[x]*tempi[x]\n",
        "    for y in range(len(array_figlio)):\n",
        "     k=tempo_macc_figli.index(min(tempo_macc_figli)) #k mi ridà l'indice del numero più piccolo dell'array tempo di ogni macchina\n",
        "     p=tempo_macc_figli[k]  #p è il tempo della macchina più scarica\n",
        "     tempo_macc_figli[k]=tempo_macc_figli[k]+tempi[array_figlio[y][0]-1] #nella posizione dell'indice k viene sommato l'i-esimo job nell'ordinamento\n",
        "     z_ge_fi+=p*pesi[array_figlio[y][0]-1]+tempi[array_figlio[y][0]-1] #calcolo la funzione obiettivo\n",
        "     z_ge_fi_array[a][b]=[z_ge_fi,a,b,posizione_sc]\n",
        "  z_ge_fi_array=[valore for riga in z_ge_fi_array for valore in riga if valore != 0]\n",
        "  z_ge_migliori=sorted(z_ge_fi_array)[:iter_ge] #prendo le sol dei migliori incroci per creare un nuovo insieme\n",
        "  z_min_figlio=min(z_ge_fi_array) #prendo la miglior soluzione figlia\n",
        "  z_ge_fi_array=[[0 for _ in range(iter_ge)] for _ in range(iter_ge)]\n",
        "  print(\"Miglio Sol. Insieme Figli=\",z_min_figlio)\n",
        "  if z_min_figlio[0]<z_min_genitori[0]: #se la sol figlia è migliore della sol dei genitori\n",
        "   miglioramento=True\n",
        "   z_min_genitori=z_min_figlio #c'è un miglioramento e creiamo il nuovo insieme figli\n",
        "   for d in range(iter_ge):\n",
        "     indice_gen_fi1=z_ge_migliori[d][1]\n",
        "     indice_gen_fi2=z_ge_migliori[d][2]\n",
        "     posizione_sc_fi=z_ge_migliori[d][3]\n",
        "     array_gen_fi1=ord_array_ge[indice_gen_fi1]\n",
        "     array_gen_fi2=ord_array_ge[indice_gen_fi2]\n",
        "     soluzione_tempo=array_gen_fi1[:posizione_sc_fi] + list((set(array_gen_fi2)-set(array_gen_fi1[:posizione_sc_fi])))\n",
        "     ord_array_ge[d]=soluzione_tempo\n",
        "  else:\n",
        "   break\n",
        "\n",
        "k=tempo_macc_ge.index(max(tempo_macc_ge))\n",
        "if tempo_macc_ge[k]<T:\n",
        "  print(\"Soluzione Ottima Trovata!\")\n",
        "else:\n",
        "  print(\"Soluzione Non Trovata!\")\n",
        "#print(\"Sol. Ge. Ord. Random =\",z_ge_array)\n",
        "print(\"Sol. Algoritmo Gen.=\",min(z_min_figlio,z_min_genitori))\n"
      ],
      "metadata": {
        "id": "aYmNAKjlTPdK",
        "colab": {
          "base_uri": "https://localhost:8080/"
        },
        "outputId": "0d4417c4-1721-41ca-c578-86f0a20240b2"
      },
      "execution_count": 8,
      "outputs": [
        {
          "output_type": "stream",
          "name": "stdout",
          "text": [
            "Sol. Insieme Genitori di Partenza= [5944, 275]\n",
            "Miglio Sol. Insieme Figli= [5942, 275, 3, 55]\n",
            "Miglio Sol. Insieme Figli= [5936, 154, 84, 42]\n",
            "Miglio Sol. Insieme Figli= [5930, 0, 0, 55]\n",
            "Miglio Sol. Insieme Figli= [5930, 0, 6, 59]\n",
            "Soluzione Ottima Trovata!\n",
            "Sol. Algoritmo Gen.= [5930, 0, 0, 55]\n"
          ]
        }
      ]
    },
    {
      "cell_type": "code",
      "source": [
        "import random\n",
        "\n",
        "z_ge=0\n",
        "z_ge_fi=0\n",
        "tempo_macc_ge=[0]*macchine\n",
        "iter_ge=800 #il genetico parte da una popolazione di individui\n",
        "z_ge_array=[0]*iter_ge\n",
        "ord_array_ge=[0]*iter_ge\n",
        "z_ge_fi_array=[0]*iter_ge\n",
        "ord_array_fi=[[0 for _ in range(iter_ge)] for _ in range(iter_ge)]\n",
        "z_genitori=0\n",
        "z_figlio=0\n",
        "miglioramento=True\n",
        "\n",
        "\n",
        "for j in range(iter_ge): #per un numero di iterazioni deciso a priori\n",
        "  tempo_macc_ge=[0]*macchine #resettiamo il carico delle macchine perché verrà sempre riaggiornato\n",
        "  z_ge=0 #stessa cosa per la z_ge\n",
        "  ord_rand1 = random.sample(ord1,len(ord1)) #Ord random\n",
        "  ord_array_ge[j]=ord_rand1 #inserisco l'ordinamento nell'array ordinamenti\n",
        "  for i in range(jobs): #questi due for servono per il calcolo della z_ms, che verrà inserita in un array di len = al numero di iterazioni\n",
        "    z_ge+=pesi[i]*tempi[i]\n",
        "  for i in range(len(ord_rand1)):\n",
        "    k=tempo_macc_ge.index(min(tempo_macc_ge)) #k mi ridà l'indice del numero più piccolo dell'array tempo di ogni macchina\n",
        "    a=tempo_macc_ge[k]\n",
        "    tempo_macc_ge[k]=tempo_macc_ge[k]+tempi[ord_rand1[i][0]-1] #nella posizione dell'indice k viene sommato l'i-esimo job nell'ordinamento\n",
        "    z_ge+=a*pesi[ord_rand1[i][0]-1]+tempi[ord_rand1[i][0]-1] #calcolo la funzione obiettivo\n",
        "    z_ge_array[j]=[z_ge,j] #mettiamo le sol in un array\n",
        "z_genitori=min(z_ge_array) #selezioniamo la sol migliore dell'insieme di partenza\n",
        "print(\"Sol. Insieme Genitori di Partenza=\",z_genitori[0])\n",
        "\n",
        "while miglioramento==True: #ho trovato le due soluzioni figlie per coppia di genitori e messe tutte in un unico array, trovare il modo per calcolare la sol eurisitica e confrontarla con la sol dei genitori potrebbe risolvere l'algoritmo\n",
        "  for j in range(0,iter_ge,2):\n",
        "    #print(j)\n",
        "    array_genitore1=ord_array_ge[j]\n",
        "    #print(array_genitore1)\n",
        "    array_genitore2=ord_array_ge[j+1]\n",
        "    posizione_sc1=random.randint(1, jobs-1)\n",
        "    array_figlio1=array_genitore1[:posizione_sc1] + list((set(array_genitore2)-set(array_genitore1[:posizione_sc1])))\n",
        "    posizione_sc2=random.randint(1, jobs-1)\n",
        "    array_figlio2=array_genitore2[:posizione_sc2] + list((set(array_genitore1)-set(array_genitore2[:posizione_sc2])))\n",
        "    ord_array_fi[j]=array_figlio1\n",
        "    ord_array_fi[j+1]=array_figlio2\n",
        "  for h in range(len(ord_array_fi)):\n",
        "    tempo_macc_figli2=[0]*macchine\n",
        "    for x in range(jobs):   #calcoliamo tutte le sol per ogni figlio\n",
        "      z_ge_fi+=pesi[x]*tempi[x]\n",
        "    for y in range(len(ord_array_fi[h])):\n",
        "      ord_array_figli=ord_array_fi[h]\n",
        "      k=tempo_macc_figli2.index(min(tempo_macc_figli2)) #k mi ridà l'indice del numero più piccolo dell'array tempo di ogni macchina\n",
        "      p=tempo_macc_figli2[k]  #p è il tempo della macchina più scarica\n",
        "      tempo_macc_figli2[k]=tempo_macc_figli2[k]+tempi[ord_array_figli[y][0]-1] #nella posizione dell'indice k viene sommato l'i-esimo job nell'ordinamento\n",
        "      z_ge_fi+=p*pesi[ord_array_figli[y][0]-1]+tempi[ord_array_figli[y][0]-1] #calcolo la funzione obiettivo\n",
        "      z_ge_fi_array[h]=[z_ge_fi,h] #mettiamo le sol in un array\n",
        "    tempo_macc_figli2=[0]*macchine\n",
        "    z_ge_fi=0\n",
        "  z_figlio=min(z_ge_fi_array)\n",
        "  #print(z_ge_fi_array)\n",
        "  print(\"Sol. Insieme Figli=\",z_figlio[0])\n",
        "  if z_figlio<z_genitori:\n",
        "    z_genitori=z_figlio\n",
        "    miglioramento=True\n",
        "    ord_array_ge=ord_array_fi\n",
        "  else:\n",
        "    break\n",
        "print(\"Sol. Algoritmo Gen.=\",min(z_figlio,z_genitori)[0])\n"
      ],
      "metadata": {
        "id": "j-rmo6bJGYZg",
        "colab": {
          "base_uri": "https://localhost:8080/"
        },
        "outputId": "c9f17312-3704-4957-d504-cd564bb841d9"
      },
      "execution_count": 9,
      "outputs": [
        {
          "output_type": "stream",
          "name": "stdout",
          "text": [
            "Sol. Insieme Genitori di Partenza= 6014\n",
            "Sol. Insieme Figli= 5991\n",
            "Sol. Insieme Figli= 6097\n",
            "Sol. Algoritmo Gen.= 5991\n"
          ]
        }
      ]
    }
  ]
}